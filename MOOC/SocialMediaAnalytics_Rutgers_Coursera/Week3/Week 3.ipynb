{
 "cells": [
  {
   "cell_type": "code",
   "execution_count": 1,
   "metadata": {
    "collapsed": true
   },
   "outputs": [],
   "source": [
    "import pandas as pd\n",
    "import numpy as np\n",
    "import matplotlib.pyplot as plt\n",
    "%matplotlib inline\n",
    "import seaborn as sns"
   ]
  },
  {
   "cell_type": "code",
   "execution_count": 5,
   "metadata": {
    "collapsed": false
   },
   "outputs": [],
   "source": [
    "ydata = pd.read_csv('video_result.csv')"
   ]
  },
  {
   "cell_type": "code",
   "execution_count": 6,
   "metadata": {
    "collapsed": false
   },
   "outputs": [
    {
     "data": {
      "text/html": [
       "<div>\n",
       "<table border=\"1\" class=\"dataframe\">\n",
       "  <thead>\n",
       "    <tr style=\"text-align: right;\">\n",
       "      <th></th>\n",
       "      <th>title</th>\n",
       "      <th>videoId</th>\n",
       "      <th>viewCount</th>\n",
       "      <th>likeCount</th>\n",
       "      <th>dislikeCount</th>\n",
       "      <th>commentCount</th>\n",
       "      <th>favoriteCount</th>\n",
       "    </tr>\n",
       "  </thead>\n",
       "  <tbody>\n",
       "    <tr>\n",
       "      <th>0</th>\n",
       "      <td>How To Master 5 Basic Cooking Skills - Gordon ...</td>\n",
       "      <td>ZJy1ajvMU1k</td>\n",
       "      <td>4740740</td>\n",
       "      <td>74011</td>\n",
       "      <td>1129</td>\n",
       "      <td>5257</td>\n",
       "      <td>0</td>\n",
       "    </tr>\n",
       "    <tr>\n",
       "      <th>1</th>\n",
       "      <td>White Privileged Cooking : RAMEN</td>\n",
       "      <td>Ktus0dpv3AM</td>\n",
       "      <td>48127</td>\n",
       "      <td>7560</td>\n",
       "      <td>143</td>\n",
       "      <td>974</td>\n",
       "      <td>0</td>\n",
       "    </tr>\n",
       "    <tr>\n",
       "      <th>2</th>\n",
       "      <td>The Magic Pumpkin Dessert - Cooking in the Forest</td>\n",
       "      <td>-_AczNVx92E</td>\n",
       "      <td>2800</td>\n",
       "      <td>337</td>\n",
       "      <td>13</td>\n",
       "      <td>64</td>\n",
       "      <td>0</td>\n",
       "    </tr>\n",
       "    <tr>\n",
       "      <th>3</th>\n",
       "      <td>Spirit Cooking With The Clintons</td>\n",
       "      <td>xuThm6Vzxxc</td>\n",
       "      <td>2703</td>\n",
       "      <td>215</td>\n",
       "      <td>10</td>\n",
       "      <td>142</td>\n",
       "      <td>0</td>\n",
       "    </tr>\n",
       "    <tr>\n",
       "      <th>4</th>\n",
       "      <td>Hillary Tied to Bizarre Occult \"Spirit Cooking...</td>\n",
       "      <td>qfL5KwUuvMc</td>\n",
       "      <td>427041</td>\n",
       "      <td>16257</td>\n",
       "      <td>353</td>\n",
       "      <td>4268</td>\n",
       "      <td>0</td>\n",
       "    </tr>\n",
       "  </tbody>\n",
       "</table>\n",
       "</div>"
      ],
      "text/plain": [
       "                                               title      videoId  viewCount  \\\n",
       "0  How To Master 5 Basic Cooking Skills - Gordon ...  ZJy1ajvMU1k    4740740   \n",
       "1                   White Privileged Cooking : RAMEN  Ktus0dpv3AM      48127   \n",
       "2  The Magic Pumpkin Dessert - Cooking in the Forest  -_AczNVx92E       2800   \n",
       "3                   Spirit Cooking With The Clintons  xuThm6Vzxxc       2703   \n",
       "4  Hillary Tied to Bizarre Occult \"Spirit Cooking...  qfL5KwUuvMc     427041   \n",
       "\n",
       "   likeCount  dislikeCount  commentCount  favoriteCount  \n",
       "0      74011          1129          5257              0  \n",
       "1       7560           143           974              0  \n",
       "2        337            13            64              0  \n",
       "3        215            10           142              0  \n",
       "4      16257           353          4268              0  "
      ]
     },
     "execution_count": 6,
     "metadata": {},
     "output_type": "execute_result"
    }
   ],
   "source": [
    "ydata.head()"
   ]
  },
  {
   "cell_type": "code",
   "execution_count": 7,
   "metadata": {
    "collapsed": false
   },
   "outputs": [
    {
     "data": {
      "text/plain": [
       "<matplotlib.axes._subplots.AxesSubplot at 0x1d8714f6b70>"
      ]
     },
     "execution_count": 7,
     "metadata": {},
     "output_type": "execute_result"
    },
    {
     "data": {
      "image/png": "[encoded data removed]",
      "text/plain": [
       "<matplotlib.figure.Figure at 0x1d8714f61d0>"
      ]
     },
     "metadata": {},
     "output_type": "display_data"
    }
   ],
   "source": [
    "ydata.viewCount.plot.hist()"
   ]
  },
  {
   "cell_type": "code",
   "execution_count": null,
   "metadata": {
    "collapsed": true
   },
   "outputs": [],
   "source": []
  }
 ],
 "metadata": {
  "anaconda-cloud": {},
  "kernelspec": {
   "display_name": "Python [default]",
   "language": "python",
   "name": "python3"
  },
  "language_info": {
   "codemirror_mode": {
    "name": "ipython",
    "version": 3
   },
   "file_extension": ".py",
   "mimetype": "text/x-python",
   "name": "python",
   "nbconvert_exporter": "python",
   "pygments_lexer": "ipython3",
   "version": "3.5.2"
  },
  "latex_envs": {
   "bibliofile": "biblio.bib",
   "cite_by": "apalike",
   "current_citInitial": 1,
   "eqLabelWithNumbers": true,
   "eqNumInitial": 0
  },
  "toc": {
   "toc_cell": false,
   "toc_number_sections": true,
   "toc_threshold": 6,
   "toc_window_display": false
  }
 },
 "nbformat": 4,
 "nbformat_minor": 1
}
